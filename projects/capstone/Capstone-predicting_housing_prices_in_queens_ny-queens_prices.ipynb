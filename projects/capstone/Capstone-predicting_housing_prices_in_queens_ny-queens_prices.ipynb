{
 "cells": [
  {
   "cell_type": "code",
   "execution_count": 1,
   "metadata": {},
   "outputs": [],
   "source": [
    "# Python Notebook - Predicting Housing Prices in Queens, NY\n",
    "\n",
    "#Import standard Python libraries for numerical analysis and visualization\n",
    "import numpy as np\n",
    "import pandas as pd\n",
    "import seaborn as sns\n",
    "import matplotlib.pyplot as plt\n",
    "\n",
    "%matplotlib inline\n",
    "\n",
    "#Set plot styles\n",
    "sns.set(style=\"darkgrid\")"
   ]
  },
  {
   "cell_type": "code",
   "execution_count": 2,
   "metadata": {},
   "outputs": [
    {
     "data": {
      "text/html": [
       "<div>\n",
       "<table border=\"1\" class=\"dataframe\">\n",
       "  <thead>\n",
       "    <tr style=\"text-align: right;\">\n",
       "      <th></th>\n",
       "      <th>borough_code</th>\n",
       "      <th>neighborhood</th>\n",
       "      <th>zipcode</th>\n",
       "      <th>land_square_feet</th>\n",
       "      <th>gross_square_feet</th>\n",
       "      <th>sale_price</th>\n",
       "      <th>community_district</th>\n",
       "      <th>school_district</th>\n",
       "      <th>floor_area_total_building</th>\n",
       "      <th>floor_area_residential</th>\n",
       "      <th>maximum_allowable_residential_far</th>\n",
       "      <th>x_coordinate</th>\n",
       "      <th>y_coordinate</th>\n",
       "    </tr>\n",
       "  </thead>\n",
       "  <tbody>\n",
       "    <tr>\n",
       "      <th>0</th>\n",
       "      <td>4</td>\n",
       "      <td>CORONA</td>\n",
       "      <td>11368</td>\n",
       "      <td>2666.0</td>\n",
       "      <td>1514.0</td>\n",
       "      <td>1100000.0</td>\n",
       "      <td>404</td>\n",
       "      <td>24</td>\n",
       "      <td>1514</td>\n",
       "      <td>1178.0</td>\n",
       "      <td>3.0</td>\n",
       "      <td>1022065.0</td>\n",
       "      <td>208029.0</td>\n",
       "    </tr>\n",
       "    <tr>\n",
       "      <th>1</th>\n",
       "      <td>4</td>\n",
       "      <td>CORONA</td>\n",
       "      <td>11368</td>\n",
       "      <td>2517.0</td>\n",
       "      <td>1715.0</td>\n",
       "      <td>650000.0</td>\n",
       "      <td>403</td>\n",
       "      <td>24</td>\n",
       "      <td>1715</td>\n",
       "      <td>1715.0</td>\n",
       "      <td>1.1</td>\n",
       "      <td>1020472.0</td>\n",
       "      <td>213876.0</td>\n",
       "    </tr>\n",
       "    <tr>\n",
       "      <th>2</th>\n",
       "      <td>4</td>\n",
       "      <td>CORONA</td>\n",
       "      <td>11368</td>\n",
       "      <td>2500.0</td>\n",
       "      <td>1380.0</td>\n",
       "      <td>664000.0</td>\n",
       "      <td>403</td>\n",
       "      <td>24</td>\n",
       "      <td>1380</td>\n",
       "      <td>1080.0</td>\n",
       "      <td>1.1</td>\n",
       "      <td>1020537.0</td>\n",
       "      <td>213788.0</td>\n",
       "    </tr>\n",
       "    <tr>\n",
       "      <th>3</th>\n",
       "      <td>4</td>\n",
       "      <td>CORONA</td>\n",
       "      <td>11368</td>\n",
       "      <td>2500.0</td>\n",
       "      <td>1098.0</td>\n",
       "      <td>650000.0</td>\n",
       "      <td>403</td>\n",
       "      <td>30</td>\n",
       "      <td>1098</td>\n",
       "      <td>1098.0</td>\n",
       "      <td>1.1</td>\n",
       "      <td>1021160.0</td>\n",
       "      <td>214421.0</td>\n",
       "    </tr>\n",
       "    <tr>\n",
       "      <th>4</th>\n",
       "      <td>4</td>\n",
       "      <td>CORONA</td>\n",
       "      <td>11368</td>\n",
       "      <td>2500.0</td>\n",
       "      <td>2081.0</td>\n",
       "      <td>795000.0</td>\n",
       "      <td>403</td>\n",
       "      <td>30</td>\n",
       "      <td>2081</td>\n",
       "      <td>2081.0</td>\n",
       "      <td>1.1</td>\n",
       "      <td>1020230.0</td>\n",
       "      <td>213575.0</td>\n",
       "    </tr>\n",
       "  </tbody>\n",
       "</table>\n",
       "</div>"
      ],
      "text/plain": [
       "   borough_code neighborhood  zipcode  land_square_feet  gross_square_feet  \\\n",
       "0             4       CORONA    11368            2666.0             1514.0   \n",
       "1             4       CORONA    11368            2517.0             1715.0   \n",
       "2             4       CORONA    11368            2500.0             1380.0   \n",
       "3             4       CORONA    11368            2500.0             1098.0   \n",
       "4             4       CORONA    11368            2500.0             2081.0   \n",
       "\n",
       "   sale_price  community_district  school_district  floor_area_total_building  \\\n",
       "0   1100000.0                 404               24                       1514   \n",
       "1    650000.0                 403               24                       1715   \n",
       "2    664000.0                 403               24                       1380   \n",
       "3    650000.0                 403               30                       1098   \n",
       "4    795000.0                 403               30                       2081   \n",
       "\n",
       "   floor_area_residential  maximum_allowable_residential_far  x_coordinate  \\\n",
       "0                  1178.0                                3.0     1022065.0   \n",
       "1                  1715.0                                1.1     1020472.0   \n",
       "2                  1080.0                                1.1     1020537.0   \n",
       "3                  1098.0                                1.1     1021160.0   \n",
       "4                  2081.0                                1.1     1020230.0   \n",
       "\n",
       "   y_coordinate  \n",
       "0      208029.0  \n",
       "1      213876.0  \n",
       "2      213788.0  \n",
       "3      214421.0  \n",
       "4      213575.0  "
      ]
     },
     "execution_count": 2,
     "metadata": {},
     "output_type": "execute_result"
    }
   ],
   "source": [
    "housing = pd.read_csv(\"capstone-data/predicting_housing_prices_in_queens_ny-queens_prices.csv\")\n",
    "housing.head()"
   ]
  },
  {
   "cell_type": "code",
   "execution_count": 3,
   "metadata": {},
   "outputs": [
    {
     "data": {
      "text/html": [
       "<div>\n",
       "<table border=\"1\" class=\"dataframe\">\n",
       "  <thead>\n",
       "    <tr style=\"text-align: right;\">\n",
       "      <th></th>\n",
       "      <th>borough_code</th>\n",
       "      <th>zipcode</th>\n",
       "      <th>land_square_feet</th>\n",
       "      <th>gross_square_feet</th>\n",
       "      <th>sale_price</th>\n",
       "      <th>community_district</th>\n",
       "      <th>school_district</th>\n",
       "      <th>floor_area_total_building</th>\n",
       "      <th>floor_area_residential</th>\n",
       "      <th>maximum_allowable_residential_far</th>\n",
       "      <th>x_coordinate</th>\n",
       "      <th>y_coordinate</th>\n",
       "    </tr>\n",
       "  </thead>\n",
       "  <tbody>\n",
       "    <tr>\n",
       "      <th>count</th>\n",
       "      <td>5219.0</td>\n",
       "      <td>5219.000000</td>\n",
       "      <td>5215.000000</td>\n",
       "      <td>5213.000000</td>\n",
       "      <td>5.219000e+03</td>\n",
       "      <td>5219.000000</td>\n",
       "      <td>5219.000000</td>\n",
       "      <td>5219.000000</td>\n",
       "      <td>5215.000000</td>\n",
       "      <td>5203.000000</td>\n",
       "      <td>5.213000e+03</td>\n",
       "      <td>5213.000000</td>\n",
       "    </tr>\n",
       "    <tr>\n",
       "      <th>mean</th>\n",
       "      <td>4.0</td>\n",
       "      <td>11394.376892</td>\n",
       "      <td>3322.016299</td>\n",
       "      <td>1469.938999</td>\n",
       "      <td>6.628835e+05</td>\n",
       "      <td>409.885419</td>\n",
       "      <td>27.021843</td>\n",
       "      <td>1464.751677</td>\n",
       "      <td>1397.595206</td>\n",
       "      <td>0.678503</td>\n",
       "      <td>1.040679e+06</td>\n",
       "      <td>199684.296950</td>\n",
       "    </tr>\n",
       "    <tr>\n",
       "      <th>std</th>\n",
       "      <td>0.0</td>\n",
       "      <td>87.548801</td>\n",
       "      <td>1601.536740</td>\n",
       "      <td>522.913821</td>\n",
       "      <td>3.169227e+05</td>\n",
       "      <td>6.089682</td>\n",
       "      <td>1.733240</td>\n",
       "      <td>564.510125</td>\n",
       "      <td>491.589135</td>\n",
       "      <td>0.318057</td>\n",
       "      <td>1.381367e+04</td>\n",
       "      <td>14964.532823</td>\n",
       "    </tr>\n",
       "    <tr>\n",
       "      <th>min</th>\n",
       "      <td>4.0</td>\n",
       "      <td>11001.000000</td>\n",
       "      <td>200.000000</td>\n",
       "      <td>240.000000</td>\n",
       "      <td>2.014000e+05</td>\n",
       "      <td>101.000000</td>\n",
       "      <td>2.000000</td>\n",
       "      <td>240.000000</td>\n",
       "      <td>240.000000</td>\n",
       "      <td>0.500000</td>\n",
       "      <td>9.498450e+05</td>\n",
       "      <td>146625.000000</td>\n",
       "    </tr>\n",
       "    <tr>\n",
       "      <th>25%</th>\n",
       "      <td>4.0</td>\n",
       "      <td>11365.000000</td>\n",
       "      <td>2100.000000</td>\n",
       "      <td>1153.000000</td>\n",
       "      <td>4.500000e+05</td>\n",
       "      <td>407.000000</td>\n",
       "      <td>26.000000</td>\n",
       "      <td>1152.000000</td>\n",
       "      <td>1131.500000</td>\n",
       "      <td>0.500000</td>\n",
       "      <td>1.031477e+06</td>\n",
       "      <td>189032.000000</td>\n",
       "    </tr>\n",
       "    <tr>\n",
       "      <th>50%</th>\n",
       "      <td>4.0</td>\n",
       "      <td>11412.000000</td>\n",
       "      <td>3000.000000</td>\n",
       "      <td>1344.000000</td>\n",
       "      <td>5.990000e+05</td>\n",
       "      <td>411.000000</td>\n",
       "      <td>27.000000</td>\n",
       "      <td>1340.000000</td>\n",
       "      <td>1296.000000</td>\n",
       "      <td>0.600000</td>\n",
       "      <td>1.041789e+06</td>\n",
       "      <td>199656.000000</td>\n",
       "    </tr>\n",
       "    <tr>\n",
       "      <th>75%</th>\n",
       "      <td>4.0</td>\n",
       "      <td>11426.000000</td>\n",
       "      <td>4000.000000</td>\n",
       "      <td>1666.000000</td>\n",
       "      <td>8.250000e+05</td>\n",
       "      <td>412.000000</td>\n",
       "      <td>29.000000</td>\n",
       "      <td>1650.000000</td>\n",
       "      <td>1552.000000</td>\n",
       "      <td>0.900000</td>\n",
       "      <td>1.051868e+06</td>\n",
       "      <td>210872.000000</td>\n",
       "    </tr>\n",
       "    <tr>\n",
       "      <th>max</th>\n",
       "      <td>4.0</td>\n",
       "      <td>11697.000000</td>\n",
       "      <td>25425.000000</td>\n",
       "      <td>8300.000000</td>\n",
       "      <td>5.500000e+06</td>\n",
       "      <td>502.000000</td>\n",
       "      <td>31.000000</td>\n",
       "      <td>15928.000000</td>\n",
       "      <td>12720.000000</td>\n",
       "      <td>10.000000</td>\n",
       "      <td>1.067063e+06</td>\n",
       "      <td>230948.000000</td>\n",
       "    </tr>\n",
       "  </tbody>\n",
       "</table>\n",
       "</div>"
      ],
      "text/plain": [
       "       borough_code       zipcode  land_square_feet  gross_square_feet  \\\n",
       "count        5219.0   5219.000000       5215.000000        5213.000000   \n",
       "mean            4.0  11394.376892       3322.016299        1469.938999   \n",
       "std             0.0     87.548801       1601.536740         522.913821   \n",
       "min             4.0  11001.000000        200.000000         240.000000   \n",
       "25%             4.0  11365.000000       2100.000000        1153.000000   \n",
       "50%             4.0  11412.000000       3000.000000        1344.000000   \n",
       "75%             4.0  11426.000000       4000.000000        1666.000000   \n",
       "max             4.0  11697.000000      25425.000000        8300.000000   \n",
       "\n",
       "         sale_price  community_district  school_district  \\\n",
       "count  5.219000e+03         5219.000000      5219.000000   \n",
       "mean   6.628835e+05          409.885419        27.021843   \n",
       "std    3.169227e+05            6.089682         1.733240   \n",
       "min    2.014000e+05          101.000000         2.000000   \n",
       "25%    4.500000e+05          407.000000        26.000000   \n",
       "50%    5.990000e+05          411.000000        27.000000   \n",
       "75%    8.250000e+05          412.000000        29.000000   \n",
       "max    5.500000e+06          502.000000        31.000000   \n",
       "\n",
       "       floor_area_total_building  floor_area_residential  \\\n",
       "count                5219.000000             5215.000000   \n",
       "mean                 1464.751677             1397.595206   \n",
       "std                   564.510125              491.589135   \n",
       "min                   240.000000              240.000000   \n",
       "25%                  1152.000000             1131.500000   \n",
       "50%                  1340.000000             1296.000000   \n",
       "75%                  1650.000000             1552.000000   \n",
       "max                 15928.000000            12720.000000   \n",
       "\n",
       "       maximum_allowable_residential_far  x_coordinate   y_coordinate  \n",
       "count                        5203.000000  5.213000e+03    5213.000000  \n",
       "mean                            0.678503  1.040679e+06  199684.296950  \n",
       "std                             0.318057  1.381367e+04   14964.532823  \n",
       "min                             0.500000  9.498450e+05  146625.000000  \n",
       "25%                             0.500000  1.031477e+06  189032.000000  \n",
       "50%                             0.600000  1.041789e+06  199656.000000  \n",
       "75%                             0.900000  1.051868e+06  210872.000000  \n",
       "max                            10.000000  1.067063e+06  230948.000000  "
      ]
     },
     "execution_count": 3,
     "metadata": {},
     "output_type": "execute_result"
    }
   ],
   "source": [
    "housing.describe()"
   ]
  },
  {
   "cell_type": "code",
   "execution_count": 4,
   "metadata": {},
   "outputs": [
    {
     "name": "stdout",
     "output_type": "stream",
     "text": [
      "<class 'pandas.core.frame.DataFrame'>\n",
      "RangeIndex: 5219 entries, 0 to 5218\n",
      "Data columns (total 13 columns):\n",
      "borough_code                         5219 non-null int64\n",
      "neighborhood                         5219 non-null object\n",
      "zipcode                              5219 non-null int64\n",
      "land_square_feet                     5215 non-null float64\n",
      "gross_square_feet                    5213 non-null float64\n",
      "sale_price                           5219 non-null float64\n",
      "community_district                   5219 non-null int64\n",
      "school_district                      5219 non-null int64\n",
      "floor_area_total_building            5219 non-null int64\n",
      "floor_area_residential               5215 non-null float64\n",
      "maximum_allowable_residential_far    5203 non-null float64\n",
      "x_coordinate                         5213 non-null float64\n",
      "y_coordinate                         5213 non-null float64\n",
      "dtypes: float64(7), int64(5), object(1)\n",
      "memory usage: 530.1+ KB\n"
     ]
    }
   ],
   "source": [
    "housing.info()"
   ]
  },
  {
   "cell_type": "code",
   "execution_count": 5,
   "metadata": {},
   "outputs": [],
   "source": [
    "housing.drop([\"borough_code\", \"maximum_allowable_residential_far\", \"floor_area_total_building\", \"floor_area_residential\"], axis=1, inplace=True)"
   ]
  },
  {
   "cell_type": "code",
   "execution_count": 6,
   "metadata": {},
   "outputs": [],
   "source": [
    "air_quality = { 11101 : 5.3, 11102 : 5.3, 11103 : 5.3, 11104 : 5.3, 11105 : 5.3, 11106 : 5.3, 11109 : 5.3, 11368 : 4.4, 11369 : 4.4, 11370 : 4.4, 11372 : 4.4, 11373 : 4.4, 11377 : 4.4, 11378 : 4.4, 11354 : 3.1, 11355 : 3.1, 11356 : 3.1, 11357 : 3.1, 11358 : 3.1, 11359 : 3.1, 11360 : 3.1, 11361 : 2.8, 11362 : 2.8, 11363 : 2.8, 11364 : 2.8, 11365 : 2.9, 11366 : 2.9, 11367 : 2.9, 11414 : 3.3, 11415 : 3.3, 11416 : 3.3, 11417 : 3.3, 11418 : 3.3, 11419 : 3.3, 11420 : 3.3, 11421 : 3.3, 11374 : 3.7, 11375 : 3.7, 11379 : 3.7, 11385 : 3.7, 11412 : 3, 11423 : 3, 11430 : 3, 11432 : 3, 11433 : 3, 11434 : 3, 11435 : 3, 11436 : 3, 11001 : 2.6, 11004 : 2.6, 11005 : 2.6, 11040 : 2.6, 11411 : 2.6, 11413 : 2.6, 11422 : 2.6, 11426 : 2.6, 11427 : 2.6, 11428 : 2.6, 11429 : 2.6, 11691 : 2.6, 11692 : 2.6, 11693 : 2.6, 11694 : 2.6, 11697 : 2.6 }\n",
    "qns_eic = { 11004 : 0.484444444444444, 11005 : 0.258741258741259, 11101 : 0.541666666666667, 11102 : 0.611650485436893, 11103 : 0.604770813844715, 11104 : 0.599348534201954, 11105 : 0.573373676248109, 11106 : 0.596781403665624, 11354 : 0.777186564682408, 11355 : 0.851420678768745, 11356 : 0.709443099273608, 11357 : 0.491902834008097, 11358 : 0.623804463336876, 11360 : 0.427, 11361 : 0.548293391430646, 11362 : 0.467889908256881, 11363 : 0.446745562130178, 11364 : 0.53078677309008, 11365 : 0.618277010947168, 11366 : 0.55783308931186, 11367 : 0.630539241857982, 11368 : 0.838716271463614, 11369 : 0.762092238470191, 11370 : 0.693233082706767, 11372 : 0.703829787234043, 11373 : 0.790552410696857, 11374 : 0.564057717533887, 11375 : 0.426894045289349, 11377 : 0.716816094467527, 11378 : 0.616086708499715, 11379 : 0.517806670435274, 11385 : 0.678884137650173, 11411 : 0.609620721554117, 11412 : 0.680104712041885, 11413 : 0.639963167587477, 11414 : 0.496978851963746, 11415 : 0.528616024973985, 11416 : 0.774856203779786, 11417 : 0.689069925322471, 11418 : 0.722693831352575, 11419 : 0.782758620689655, 11420 : 0.716092455298735, 11421 : 0.722332015810277, 11422 : 0.635757575757576, 11423 : 0.687294272547729, 11426 : 0.551130247578041, 11427 : 0.591452991452992, 11428 : 0.652917505030181, 11429 : 0.692191053828658, 11430 : 0.5625, 11432 : 0.723125884016973, 11433 : 0.767813267813268, 11434 : 0.687152563310686, 11435 : 0.709000762776507, 11436 : 0.716981132075472, 11501 : 0.455463728191001, 11507 : 0.394179894179894, 11509 : 0.37593984962406, 11510 : 0.482700892857143, 11514 : 0.463035019455253, 11516 : 0.442136498516321, 11518 : 0.432142857142857, 11520 : 0.651919866444073, 11530 : 0.337698139214335, 11542 : 0.57089552238806, 11545 : 0.389438943894389, 11548 : 0.462686567164179, 11550 : 0.746967071057192, 11552 : 0.510852713178295, 11553 : 0.720274914089347, 11554 : 0.462316641375822, 11557 : 0.402439024390244, 11558 : 0.523584905660377, 11559 : 0.458549222797928, 11560 : 0.443148688046647, 11561 : 0.428205128205128, 11563 : 0.441840277777778, 11565 : 0.378378378378378, 11566 : 0.387622149837134, 11568 : 0.362573099415205, 11570 : 0.402777777777778, 11572 : 0.429371499688861, 11575 : 0.732749178532311, 11576 : 0.332807570977918, 11577 : 0.387687188019967, 11579 : 0.40530303030303, 11580 : 0.523744911804613, 11581 : 0.454376163873371, 11590 : 0.593233674272227, 11596 : 0.394160583941606, 11598 : 0.376689189189189, 11691 : 0.757805530776093, 11692 : 0.742196531791908, 11693 : 0.636842105263158, 11694 : 0.496590909090909, 11697 : 0.357843137254902, 11697 : 0.357843137254902}"
   ]
  },
  {
   "cell_type": "code",
   "execution_count": 7,
   "metadata": {},
   "outputs": [],
   "source": [
    "x = housing[\"zipcode\"]\n",
    "housing[\"earned_income\"] = x.map(qns_eic)\n",
    "x2 = housing[\"zipcode\"]\n",
    "housing[\"air_qual\"] = x2.map(air_quality)"
   ]
  },
  {
   "cell_type": "code",
   "execution_count": 8,
   "metadata": {},
   "outputs": [
    {
     "name": "stdout",
     "output_type": "stream",
     "text": [
      "<class 'pandas.core.frame.DataFrame'>\n",
      "RangeIndex: 5219 entries, 0 to 5218\n",
      "Data columns (total 11 columns):\n",
      "neighborhood          5219 non-null object\n",
      "zipcode               5219 non-null int64\n",
      "land_square_feet      5215 non-null float64\n",
      "gross_square_feet     5213 non-null float64\n",
      "sale_price            5219 non-null float64\n",
      "community_district    5219 non-null int64\n",
      "school_district       5219 non-null int64\n",
      "x_coordinate          5213 non-null float64\n",
      "y_coordinate          5213 non-null float64\n",
      "earned_income         5163 non-null float64\n",
      "air_qual              5219 non-null float64\n",
      "dtypes: float64(7), int64(3), object(1)\n",
      "memory usage: 448.6+ KB\n"
     ]
    }
   ],
   "source": [
    "housing.info()"
   ]
  },
  {
   "cell_type": "code",
   "execution_count": 9,
   "metadata": {},
   "outputs": [
    {
     "data": {
      "text/plain": [
       "array([11001, 11040])"
      ]
     },
     "execution_count": 9,
     "metadata": {},
     "output_type": "execute_result"
    }
   ],
   "source": [
    "null_vals = housing[housing[\"earned_income\"].isnull()]\n",
    "null_vals[\"zipcode\"].unique()"
   ]
  },
  {
   "cell_type": "code",
   "execution_count": 10,
   "metadata": {},
   "outputs": [],
   "source": [
    "housing.dropna(axis=0, how=\"any\", inplace=True)"
   ]
  },
  {
   "cell_type": "code",
   "execution_count": 11,
   "metadata": {},
   "outputs": [
    {
     "name": "stdout",
     "output_type": "stream",
     "text": [
      "<class 'pandas.core.frame.DataFrame'>\n",
      "Int64Index: 5151 entries, 0 to 5218\n",
      "Data columns (total 11 columns):\n",
      "neighborhood          5151 non-null object\n",
      "zipcode               5151 non-null int64\n",
      "land_square_feet      5151 non-null float64\n",
      "gross_square_feet     5151 non-null float64\n",
      "sale_price            5151 non-null float64\n",
      "community_district    5151 non-null int64\n",
      "school_district       5151 non-null int64\n",
      "x_coordinate          5151 non-null float64\n",
      "y_coordinate          5151 non-null float64\n",
      "earned_income         5151 non-null float64\n",
      "air_qual              5151 non-null float64\n",
      "dtypes: float64(7), int64(3), object(1)\n",
      "memory usage: 482.9+ KB\n"
     ]
    }
   ],
   "source": [
    "housing.info()"
   ]
  },
  {
   "cell_type": "code",
   "execution_count": 12,
   "metadata": {},
   "outputs": [],
   "source": [
    "#Importing our sales data\n",
    "sales13 = pd.read_csv(\"capstone-data/predicting_housing_prices_in_queens_ny-sales13.csv\")\n",
    "sales14 = pd.read_csv(\"capstone-data/predicting_housing_prices_in_queens_ny-sales14.csv\")\n",
    "sales15 = pd.read_csv(\"capstone-data/predicting_housing_prices_in_queens_ny-sales15.csv\")\n",
    "sales16 = pd.read_csv(\"capstone-data/predicting_housing_prices_in_queens_ny-sales16.csv\")"
   ]
  },
  {
   "cell_type": "code",
   "execution_count": 13,
   "metadata": {},
   "outputs": [],
   "source": [
    "#Finding the average sale price per group of home\n",
    "qns_13 = sales13.groupby(\"TYPE_OF_HOME\").mean()\n",
    "qns_14 = sales14.groupby(\"TYPE_OF_HOME\").mean()\n",
    "qns_15 = sales15.groupby(\"TYPE_OF_HOME\").mean()\n",
    "qns_16 = sales16.groupby(\"TYPE_OF_HOME\").mean()"
   ]
  },
  {
   "cell_type": "code",
   "execution_count": 14,
   "metadata": {},
   "outputs": [
    {
     "data": {
      "text/html": [
       "<div>\n",
       "<table border=\"1\" class=\"dataframe\">\n",
       "  <thead>\n",
       "    <tr style=\"text-align: right;\">\n",
       "      <th></th>\n",
       "      <th></th>\n",
       "      <th>NUMBER_OF_SALES</th>\n",
       "      <th>LOWEST_SALE_PRICE</th>\n",
       "      <th>AVERAGE_SALE_PRICE</th>\n",
       "      <th>MEDIAN_SALE_PRICE</th>\n",
       "      <th>HIGHEST_SALE_PRICE</th>\n",
       "    </tr>\n",
       "    <tr>\n",
       "      <th></th>\n",
       "      <th>TYPE_OF_HOME</th>\n",
       "      <th></th>\n",
       "      <th></th>\n",
       "      <th></th>\n",
       "      <th></th>\n",
       "      <th></th>\n",
       "    </tr>\n",
       "  </thead>\n",
       "  <tbody>\n",
       "    <tr>\n",
       "      <th>2013</th>\n",
       "      <th>01 ONE FAMILY HOMES</th>\n",
       "      <td>82.758621</td>\n",
       "      <td>254929.310345</td>\n",
       "      <td>529537.775862</td>\n",
       "      <td>501908.327586</td>\n",
       "      <td>1.146212e+06</td>\n",
       "    </tr>\n",
       "    <tr>\n",
       "      <th>2014</th>\n",
       "      <th>01 ONE FAMILY HOMES</th>\n",
       "      <td>82.448276</td>\n",
       "      <td>262555.706897</td>\n",
       "      <td>573727.517241</td>\n",
       "      <td>544505.689655</td>\n",
       "      <td>1.392966e+06</td>\n",
       "    </tr>\n",
       "    <tr>\n",
       "      <th>2015</th>\n",
       "      <th>01 ONE FAMILY HOMES</th>\n",
       "      <td>95.108108</td>\n",
       "      <td>272912.162162</td>\n",
       "      <td>589401.135135</td>\n",
       "      <td>565928.621622</td>\n",
       "      <td>1.345588e+06</td>\n",
       "    </tr>\n",
       "    <tr>\n",
       "      <th>2016</th>\n",
       "      <th>01 ONE FAMILY HOMES</th>\n",
       "      <td>95.017241</td>\n",
       "      <td>258778.241379</td>\n",
       "      <td>646666.982759</td>\n",
       "      <td>623326.206897</td>\n",
       "      <td>1.322394e+06</td>\n",
       "    </tr>\n",
       "  </tbody>\n",
       "</table>\n",
       "</div>"
      ],
      "text/plain": [
       "                               NUMBER_OF_SALES  LOWEST_SALE_PRICE  \\\n",
       "     TYPE_OF_HOME                                                   \n",
       "2013 01 ONE FAMILY HOMES             82.758621      254929.310345   \n",
       "2014 01 ONE FAMILY HOMES             82.448276      262555.706897   \n",
       "2015 01 ONE FAMILY HOMES             95.108108      272912.162162   \n",
       "2016 01 ONE FAMILY HOMES             95.017241      258778.241379   \n",
       "\n",
       "                               AVERAGE_SALE_PRICE  MEDIAN_SALE_PRICE  \\\n",
       "     TYPE_OF_HOME                                                      \n",
       "2013 01 ONE FAMILY HOMES            529537.775862      501908.327586   \n",
       "2014 01 ONE FAMILY HOMES            573727.517241      544505.689655   \n",
       "2015 01 ONE FAMILY HOMES            589401.135135      565928.621622   \n",
       "2016 01 ONE FAMILY HOMES            646666.982759      623326.206897   \n",
       "\n",
       "                               HIGHEST_SALE_PRICE  \n",
       "     TYPE_OF_HOME                                  \n",
       "2013 01 ONE FAMILY HOMES             1.146212e+06  \n",
       "2014 01 ONE FAMILY HOMES             1.392966e+06  \n",
       "2015 01 ONE FAMILY HOMES             1.345588e+06  \n",
       "2016 01 ONE FAMILY HOMES             1.322394e+06  "
      ]
     },
     "execution_count": 14,
     "metadata": {},
     "output_type": "execute_result"
    }
   ],
   "source": [
    "#Selecting only data referring to single family homes and combining to form a dataset\n",
    "qns_16 = qns_16[0:1]\n",
    "qns_15 = qns_15[0:1]\n",
    "qns_14 = qns_14[0:1]\n",
    "qns_13 = qns_13[0:1]\n",
    "qns_hist = pd.concat([qns_13, qns_14, qns_15, qns_16], keys=['2013', '2014', '2015', '2016'])\n",
    "qns_hist.head()"
   ]
  },
  {
   "cell_type": "code",
   "execution_count": 15,
   "metadata": {},
   "outputs": [],
   "source": [
    "#Minimum sales price per year\n",
    "min_13 = sales13[\"LOWEST_SALE_PRICE\"].min()\n",
    "min_14 = sales14[\"LOWEST_SALE_PRICE\"].min()\n",
    "min_15 = sales15[\"LOWEST_SALE_PRICE\"].min()\n",
    "min_16 = sales16[\"LOWEST_SALE_PRICE\"].min()"
   ]
  },
  {
   "cell_type": "code",
   "execution_count": 16,
   "metadata": {},
   "outputs": [],
   "source": [
    "#Maximum sales price per year \n",
    "max_13 = sales13[\"HIGHEST_SALE_PRICE\"].max()\n",
    "max_14 = sales14[\"HIGHEST_SALE_PRICE\"].max()\n",
    "max_15 = sales15[\"HIGHEST_SALE_PRICE\"].max()\n",
    "max_16 = sales16[\"HIGHEST_SALE_PRICE\"].max()"
   ]
  },
  {
   "cell_type": "code",
   "execution_count": 17,
   "metadata": {},
   "outputs": [
    {
     "name": "stdout",
     "output_type": "stream",
     "text": [
      "The minimum sale prices for homes between 2013 & 2016 are as follows:\n",
      "\n",
      "2013: $200,000.00\n",
      "2014: $200,000.00\n",
      "2015: $200,000.00\n",
      "2016: $200,000.00\n"
     ]
    }
   ],
   "source": [
    "print(\"The minimum sale prices for homes between 2013 & 2016 are as follows:\\n\")\n",
    "print(\"2013: ${:,.2f}\".format(min_13))\n",
    "print(\"2014: ${:,.2f}\".format(min_14))\n",
    "print(\"2015: ${:,.2f}\".format(min_15))\n",
    "print(\"2016: ${:,.2f}\".format(min_16))"
   ]
  },
  {
   "cell_type": "code",
   "execution_count": 18,
   "metadata": {},
   "outputs": [
    {
     "name": "stdout",
     "output_type": "stream",
     "text": [
      "The maximum sale prices for homes between 2013 & 2016 are as follows:\n",
      "\n",
      "2013: $11,100,000.00\n",
      "2014: $5,600,000.00\n",
      "2015: $5,254,538.00\n",
      "2016: $7,750,000.00\n"
     ]
    }
   ],
   "source": [
    "print(\"The maximum sale prices for homes between 2013 & 2016 are as follows:\\n\")\n",
    "print(\"2013: ${:,.2f}\".format(max_13))\n",
    "print(\"2014: ${:,.2f}\".format(max_14))\n",
    "print(\"2015: ${:,.2f}\".format(max_15))\n",
    "print(\"2016: ${:,.2f}\".format(max_16))"
   ]
  },
  {
   "cell_type": "code",
   "execution_count": 19,
   "metadata": {},
   "outputs": [
    {
     "data": {
      "image/png": "[encoded data removed]",
      "text/plain": [
       "<matplotlib.figure.Figure at 0x7f8ad53fc198>"
      ]
     },
     "metadata": {},
     "output_type": "display_data"
    }
   ],
   "source": [
    "plt.figure(figsize=(15, 5))\n",
    "sns.distplot((housing[\"sale_price\"]), kde=False);"
   ]
  },
  {
   "cell_type": "code",
   "execution_count": 20,
   "metadata": {},
   "outputs": [
    {
     "name": "stdout",
     "output_type": "stream",
     "text": [
      "Sales data for the year 2017-2018: \n",
      "\n",
      "Minimum price: $201,400.00\n",
      "Mean price: $662,698.07\n",
      "Median price $595,000.00\n",
      "Maximum price: $5,500,000.00\n"
     ]
    }
   ],
   "source": [
    "min_price = np.min(housing[\"sale_price\"])\n",
    "avg_price = np.mean(housing[\"sale_price\"])\n",
    "median_price = np.median(housing[\"sale_price\"])\n",
    "max_price = np.max(housing[\"sale_price\"])\n",
    "print(\"Sales data for the year 2017-2018: \\n\")\n",
    "print(\"Minimum price: ${:,.2f}\".format(min_price))\n",
    "print(\"Mean price: ${:,.2f}\".format(avg_price))\n",
    "print(\"Median price ${:,.2f}\".format(median_price))\n",
    "print(\"Maximum price: ${:,.2f}\".format(max_price))"
   ]
  },
  {
   "cell_type": "code",
   "execution_count": 21,
   "metadata": {},
   "outputs": [],
   "source": [
    "housing[\"neighborhood\"] = housing[\"neighborhood\"].astype('category')\n",
    "housing[\"zipcode\"] = housing[\"zipcode\"].astype('category')\n",
    "housing[\"school_district\"] = housing[\"school_district\"].astype('category')\n",
    "housing[\"community_district\"] = housing[\"community_district\"].astype('category')"
   ]
  },
  {
   "cell_type": "code",
   "execution_count": 22,
   "metadata": {},
   "outputs": [
    {
     "name": "stdout",
     "output_type": "stream",
     "text": [
      "<class 'pandas.core.frame.DataFrame'>\n",
      "Int64Index: 5151 entries, 0 to 5218\n",
      "Data columns (total 11 columns):\n",
      "neighborhood          5151 non-null category\n",
      "zipcode               5151 non-null category\n",
      "land_square_feet      5151 non-null float64\n",
      "gross_square_feet     5151 non-null float64\n",
      "sale_price            5151 non-null float64\n",
      "community_district    5151 non-null category\n",
      "school_district       5151 non-null category\n",
      "x_coordinate          5151 non-null float64\n",
      "y_coordinate          5151 non-null float64\n",
      "earned_income         5151 non-null float64\n",
      "air_qual              5151 non-null float64\n",
      "dtypes: category(4), float64(7)\n",
      "memory usage: 343.2 KB\n"
     ]
    }
   ],
   "source": [
    "housing.info()"
   ]
  },
  {
   "cell_type": "code",
   "execution_count": null,
   "metadata": {},
   "outputs": [],
   "source": []
  },
  {
   "cell_type": "code",
   "execution_count": 23,
   "metadata": {},
   "outputs": [
    {
     "data": {
      "text/plain": [
       "earned_income       -0.387663\n",
       "x_coordinate        -0.206744\n",
       "air_qual             0.184995\n",
       "y_coordinate         0.466941\n",
       "land_square_feet     0.474715\n",
       "gross_square_feet    0.556126\n",
       "sale_price           1.000000\n",
       "Name: sale_price, dtype: float64"
      ]
     },
     "execution_count": 23,
     "metadata": {},
     "output_type": "execute_result"
    }
   ],
   "source": [
    "housing.corr()[\"sale_price\"].sort_values()"
   ]
  },
  {
   "cell_type": "code",
   "execution_count": 24,
   "metadata": {},
   "outputs": [
    {
     "data": {
      "text/plain": [
       "<matplotlib.axes._subplots.AxesSubplot at 0x7f8ad9d6b780>"
      ]
     },
     "execution_count": 24,
     "metadata": {},
     "output_type": "execute_result"
    },
    {
     "data": {
      "image/png": "[encoded data removed]",
      "text/plain": [
       "<matplotlib.figure.Figure at 0x7f8ad531f860>"
      ]
     },
     "metadata": {},
     "output_type": "display_data"
    }
   ],
   "source": [
    "sns.regplot(x=\"earned_income\", y=\"sale_price\", data=housing)"
   ]
  },
  {
   "cell_type": "code",
   "execution_count": 25,
   "metadata": {},
   "outputs": [
    {
     "data": {
      "text/plain": [
       "<matplotlib.axes._subplots.AxesSubplot at 0x7f8ad4fbf0b8>"
      ]
     },
     "execution_count": 25,
     "metadata": {},
     "output_type": "execute_result"
    },
    {
     "data": {
      "image/png": "[encoded data removed]",
      "text/plain": [
       "<matplotlib.figure.Figure at 0x7f8ad53dfda0>"
      ]
     },
     "metadata": {},
     "output_type": "display_data"
    }
   ],
   "source": [
    "sns.regplot(x=\"land_square_feet\", y=\"sale_price\", data=housing)"
   ]
  },
  {
   "cell_type": "code",
   "execution_count": 26,
   "metadata": {},
   "outputs": [
    {
     "data": {
      "text/plain": [
       "<matplotlib.axes._subplots.AxesSubplot at 0x7f8ad4f76c88>"
      ]
     },
     "execution_count": 26,
     "metadata": {},
     "output_type": "execute_result"
    },
    {
     "data": {
      "image/png": "[encoded data removed]",
      "text/plain": [
       "<matplotlib.figure.Figure at 0x7f8ad4f620b8>"
      ]
     },
     "metadata": {},
     "output_type": "display_data"
    }
   ],
   "source": [
    "sns.regplot(x=\"gross_square_feet\", y=\"sale_price\", data=housing)"
   ]
  },
  {
   "cell_type": "code",
   "execution_count": 27,
   "metadata": {},
   "outputs": [],
   "source": [
    "prices = housing[\"sale_price\"]"
   ]
  },
  {
   "cell_type": "code",
   "execution_count": 28,
   "metadata": {},
   "outputs": [],
   "source": [
    "features = housing.drop([\"neighborhood\", \"zipcode\", \"sale_price\", \"community_district\", \"school_district\", \"air_qual\"], axis=1)"
   ]
  },
  {
   "cell_type": "code",
   "execution_count": 29,
   "metadata": {},
   "outputs": [
    {
     "name": "stdout",
     "output_type": "stream",
     "text": [
      "(4120, 5)\n",
      "(1031, 5)\n",
      "(4120,)\n",
      "(1031,)\n"
     ]
    }
   ],
   "source": [
    "from sklearn.model_selection import train_test_split\n",
    "X_train, X_test, y_train, y_test = train_test_split(features, prices, test_size=.2, random_state=147)\n",
    "print(X_train.shape)\n",
    "print(X_test.shape)\n",
    "print(y_train.shape)\n",
    "print(y_test.shape)"
   ]
  },
  {
   "cell_type": "code",
   "execution_count": 30,
   "metadata": {},
   "outputs": [],
   "source": [
    "import matplotlib.pyplot as pl\n",
    "import numpy as np\n",
    "import sklearn.model_selection as curves\n",
    "from sklearn.tree import DecisionTreeRegressor\n",
    "from sklearn.model_selection import ShuffleSplit, train_test_split"
   ]
  },
  {
   "cell_type": "code",
   "execution_count": 31,
   "metadata": {},
   "outputs": [],
   "source": [
    "def ModelLearning(X, y):\n",
    "    \"\"\" Calculates the performance of several models with varying sizes of training data.\n",
    "        The learning and testing scores for each model are then plotted. \"\"\"\n",
    "    \n",
    "    # Create 10 cross-validation sets for training and testing\n",
    "    cv = ShuffleSplit(n_splits=10, test_size=.2, train_size=None, random_state=None)\n",
    "\n",
    "    # Generate the training set sizes increasing by 50\n",
    "    train_sizes = np.rint(np.linspace(1, X.shape[0]*0.8 - 1, 9)).astype(int)\n",
    "\n",
    "    # Create the figure window\n",
    "    fig = plt.figure(figsize=(10,7))\n",
    "\n",
    "    # Create three different models based on max_depth\n",
    "    for k, depth in enumerate([1,3,5,10]):\n",
    "        \n",
    "        # Create a Decision tree regressor at max_depth = depth\n",
    "        regressor = DecisionTreeRegressor(max_depth = depth)\n",
    "\n",
    "        # Calculate the training and testing scores\n",
    "        sizes, train_scores, test_scores = curves.learning_curve(regressor, X, y, \\\n",
    "            cv = cv, train_sizes = train_sizes, scoring = 'r2')\n",
    "        \n",
    "        # Find the mean and standard deviation for smoothing\n",
    "        train_std = np.std(train_scores, axis = 1)\n",
    "        train_mean = np.mean(train_scores, axis = 1)\n",
    "        test_std = np.std(test_scores, axis = 1)\n",
    "        test_mean = np.mean(test_scores, axis = 1)\n",
    "\n",
    "        # Subplot the learning curve \n",
    "        ax = fig.add_subplot(2, 2, k+1)\n",
    "        ax.plot(sizes, train_mean, 'o-', color = 'r', label = 'Training Score')\n",
    "        ax.plot(sizes, test_mean, 'o-', color = 'g', label = 'Testing Score')\n",
    "        ax.fill_between(sizes, train_mean - train_std, \\\n",
    "            train_mean + train_std, alpha = 0.15, color = 'r')\n",
    "        ax.fill_between(sizes, test_mean - test_std, \\\n",
    "            test_mean + test_std, alpha = 0.15, color = 'g')\n",
    "        \n",
    "        # Labels\n",
    "        ax.set_title('max_depth = %s'%(depth))\n",
    "        ax.set_xlabel('Number of Training Points')\n",
    "        ax.set_ylabel('Score')\n",
    "        ax.set_xlim([0, X.shape[0]*0.8])\n",
    "        ax.set_ylim([-0.05, 1.05])\n",
    "    \n",
    "    # Visual aesthetics\n",
    "    ax.legend(bbox_to_anchor=(1.05, 2.05), loc='lower left', borderaxespad = 0.)\n",
    "    fig.suptitle('Decision Tree Regressor Learning Performances', fontsize = 16, y = 1.03)\n",
    "    fig.tight_layout()\n",
    "    fig.show()"
   ]
  },
  {
   "cell_type": "code",
   "execution_count": 32,
   "metadata": {},
   "outputs": [],
   "source": [
    "def ModelComplexity(X, y):\n",
    "    \"\"\" Calculates the performance of the model as model complexity increases.\n",
    "        The learning and testing errors rates are then plotted. \"\"\"\n",
    "    \n",
    "    # Create 10 cross-validation sets for training and testing\n",
    "    cv = ShuffleSplit(n_splits=10, test_size=.2, train_size=None, random_state=None)\n",
    "\n",
    "    # Vary the max_depth parameter from 1 to 10\n",
    "    max_depth = np.arange(1,11)\n",
    "\n",
    "    # Calculate the training and testing scores\n",
    "    train_scores, test_scores = curves.validation_curve(DecisionTreeRegressor(), X, y, \\\n",
    "        param_name = \"max_depth\", param_range = max_depth, cv = cv, scoring = 'r2')\n",
    "\n",
    "    # Find the mean and standard deviation for smoothing\n",
    "    train_mean = np.mean(train_scores, axis=1)\n",
    "    train_std = np.std(train_scores, axis=1)\n",
    "    test_mean = np.mean(test_scores, axis=1)\n",
    "    test_std = np.std(test_scores, axis=1)\n",
    "\n",
    "    # Plot the validation curve\n",
    "    plt.figure(figsize=(7, 5))\n",
    "    plt.title('Decision Tree Regressor Complexity Performance')\n",
    "    plt.plot(max_depth, train_mean, 'o-', color = 'r', label = 'Training Score')\n",
    "    plt.plot(max_depth, test_mean, 'o-', color = 'g', label = 'Validation Score')\n",
    "    plt.fill_between(max_depth, train_mean - train_std, \\\n",
    "        train_mean + train_std, alpha = 0.15, color = 'r')\n",
    "    plt.fill_between(max_depth, test_mean - test_std, \\\n",
    "        test_mean + test_std, alpha = 0.15, color = 'g')\n",
    "    \n",
    "    # Visual aesthetics\n",
    "    plt.legend(loc = 'lower right')\n",
    "    plt.xlabel('Maximum Depth')\n",
    "    plt.ylabel('Score')\n",
    "    plt.ylim([-0.05,1.05])\n",
    "    plt.show()"
   ]
  },
  {
   "cell_type": "code",
   "execution_count": 33,
   "metadata": {},
   "outputs": [],
   "source": [
    "def PredictTrials(X, y, fitter, data):\n",
    "    \"\"\" Performs trials of fitting and predicting data. \"\"\"\n",
    "\n",
    "    # Store the predicted prices\n",
    "    prices = []\n",
    "\n",
    "    for k in range(10):\n",
    "        # Split the data\n",
    "        X_train, X_test, y_train, y_test = train_test_split(X, y, \\\n",
    "            test_size = 0.2, random_state = k)\n",
    "        \n",
    "        # Fit the data\n",
    "        reg = fitter(X_train, y_train)\n",
    "        \n",
    "        # Make a prediction\n",
    "        pred = reg.predict([data[0]])[0]\n",
    "        prices.append(pred)\n",
    "        \n",
    "        # Result\n",
    "        print(\"Trial {}: ${:,.2f}\".format(k+1, pred))\n",
    "\n",
    "    # Display price range\n",
    "    print(\"\\nRange in prices: ${:,.2f}\".format(max(prices) - min(prices)))"
   ]
  },
  {
   "cell_type": "code",
   "execution_count": 34,
   "metadata": {},
   "outputs": [
    {
     "name": "stderr",
     "output_type": "stream",
     "text": [
      "/home/nbuser/anaconda3_420/lib/python3.5/site-packages/sklearn/model_selection/_validation.py:811: FutureWarning: Conversion of the second argument of issubdtype from `float` to `np.floating` is deprecated. In future, it will be treated as `np.float64 == np.dtype(float).type`.\n",
      "  if np.issubdtype(train_sizes_abs.dtype, np.float):\n",
      "/home/nbuser/anaconda3_420/lib/python3.5/site-packages/sklearn/model_selection/_validation.py:811: FutureWarning: Conversion of the second argument of issubdtype from `float` to `np.floating` is deprecated. In future, it will be treated as `np.float64 == np.dtype(float).type`.\n",
      "  if np.issubdtype(train_sizes_abs.dtype, np.float):\n",
      "/home/nbuser/anaconda3_420/lib/python3.5/site-packages/sklearn/model_selection/_validation.py:811: FutureWarning: Conversion of the second argument of issubdtype from `float` to `np.floating` is deprecated. In future, it will be treated as `np.float64 == np.dtype(float).type`.\n",
      "  if np.issubdtype(train_sizes_abs.dtype, np.float):\n",
      "/home/nbuser/anaconda3_420/lib/python3.5/site-packages/sklearn/model_selection/_validation.py:811: FutureWarning: Conversion of the second argument of issubdtype from `float` to `np.floating` is deprecated. In future, it will be treated as `np.float64 == np.dtype(float).type`.\n",
      "  if np.issubdtype(train_sizes_abs.dtype, np.float):\n",
      "/home/nbuser/anaconda3_420/lib/python3.5/site-packages/matplotlib/figure.py:418: UserWarning: matplotlib is currently using a non-GUI backend, so cannot show the figure\n",
      "  \"matplotlib is currently using a non-GUI backend, \"\n"
     ]
    },
    {
     "data": {
      "image/png": "[encoded data removed]",
      "text/plain": [
       "<matplotlib.figure.Figure at 0x7f8ad4a948d0>"
      ]
     },
     "metadata": {},
     "output_type": "display_data"
    }
   ],
   "source": [
    "ModelLearning(features, prices)"
   ]
  },
  {
   "cell_type": "code",
   "execution_count": 35,
   "metadata": {},
   "outputs": [
    {
     "data": {
      "image/png": "[encoded data removed]",
      "text/plain": [
       "<matplotlib.figure.Figure at 0x7f8ad47d84a8>"
      ]
     },
     "metadata": {},
     "output_type": "display_data"
    }
   ],
   "source": [
    "ModelComplexity(X_train, y_train)"
   ]
  },
  {
   "cell_type": "code",
   "execution_count": 36,
   "metadata": {},
   "outputs": [],
   "source": [
    "from sklearn.metrics import r2_score"
   ]
  },
  {
   "cell_type": "code",
   "execution_count": 37,
   "metadata": {},
   "outputs": [],
   "source": [
    "def performance_metric(y_true, y_predict):\n",
    "    score = r2_score(y_true, y_predict)\n",
    "    return score"
   ]
  },
  {
   "cell_type": "code",
   "execution_count": 38,
   "metadata": {},
   "outputs": [],
   "source": [
    "from sklearn.tree import DecisionTreeRegressor\n",
    "from sklearn.metrics import make_scorer\n",
    "from sklearn.model_selection import GridSearchCV, ShuffleSplit"
   ]
  },
  {
   "cell_type": "code",
   "execution_count": 39,
   "metadata": {},
   "outputs": [],
   "source": [
    "def fit_model(X, y):\n",
    "    cv_sets = ShuffleSplit(n_splits=10, test_size=.1, train_size=None, random_state=None)\n",
    "    regressor = DecisionTreeRegressor()\n",
    "    params = {'max_depth': list(range(1, 11))}\n",
    "    scoring_fnc = make_scorer(performance_metric)\n",
    "    grid = GridSearchCV(regressor, params, scoring=scoring_fnc, cv=cv_sets)\n",
    "\n",
    "    grid = grid.fit(X, y)\n",
    "    return grid.best_estimator_"
   ]
  },
  {
   "cell_type": "code",
   "execution_count": 40,
   "metadata": {},
   "outputs": [],
   "source": [
    "# Fit the training data to the model using grid search\n",
    "reg = fit_model(X_train, y_train)"
   ]
  },
  {
   "cell_type": "code",
   "execution_count": 41,
   "metadata": {},
   "outputs": [
    {
     "name": "stdout",
     "output_type": "stream",
     "text": [
      "Parameter 'max_depth' is 6 for the optimal model.\n"
     ]
    }
   ],
   "source": [
    "# Produce the value for 'max_depth'\n",
    "print(\"Parameter 'max_depth' is {} for the optimal model.\".format(reg.get_params()['max_depth']))"
   ]
  },
  {
   "cell_type": "code",
   "execution_count": 42,
   "metadata": {},
   "outputs": [],
   "source": [
    "#Select supervised learning algorithms to compare\n",
    "from sklearn.linear_model import LinearRegression"
   ]
  },
  {
   "cell_type": "code",
   "execution_count": 43,
   "metadata": {},
   "outputs": [
    {
     "data": {
      "text/plain": [
       "0.6106022095077892"
      ]
     },
     "execution_count": 43,
     "metadata": {},
     "output_type": "execute_result"
    }
   ],
   "source": [
    "reg1 = LinearRegression(normalize=True)\n",
    "reg1.fit(X_train, y_train)\n",
    "reg1.score(X_train, y_train)"
   ]
  },
  {
   "cell_type": "code",
   "execution_count": 44,
   "metadata": {},
   "outputs": [],
   "source": [
    "y_1 = reg1.predict(X_train)"
   ]
  },
  {
   "cell_type": "code",
   "execution_count": 45,
   "metadata": {},
   "outputs": [],
   "source": [
    "from sklearn.ensemble import AdaBoostRegressor\n",
    "from sklearn.tree import DecisionTreeRegressor"
   ]
  },
  {
   "cell_type": "code",
   "execution_count": 46,
   "metadata": {},
   "outputs": [
    {
     "data": {
      "text/plain": [
       "0.90326093335974"
      ]
     },
     "execution_count": 46,
     "metadata": {},
     "output_type": "execute_result"
    }
   ],
   "source": [
    "reg2 = AdaBoostRegressor(base_estimator=DecisionTreeRegressor(max_depth=9), n_estimators=300, random_state=17)\n",
    "reg2.fit(X_train, y_train.values.ravel())\n",
    "reg2.score(X_train, y_train.values.ravel())"
   ]
  },
  {
   "cell_type": "code",
   "execution_count": 47,
   "metadata": {},
   "outputs": [],
   "source": [
    "y_2 = reg2.predict(X_train)"
   ]
  },
  {
   "cell_type": "code",
   "execution_count": 48,
   "metadata": {},
   "outputs": [],
   "source": [
    "lsf = features[\"land_square_feet\"]\n",
    "gsf = features[\"gross_square_feet\"]\n",
    "eic = features[\"earned_income\"]\n",
    "x_c = features[\"x_coordinate\"]\n",
    "y_c = features[\"y_coordinate\"]"
   ]
  },
  {
   "cell_type": "code",
   "execution_count": 49,
   "metadata": {},
   "outputs": [
    {
     "name": "stdout",
     "output_type": "stream",
     "text": [
      "[8385 8392 2758]\n",
      "[ 465  975 3173]\n",
      "[0.80607914 0.50736112 0.82588865]\n",
      "[1002881  964569 1063623]\n",
      "[218058 162058 210156]\n"
     ]
    }
   ],
   "source": [
    "import math\n",
    "\n",
    "f1 = np.random.randint(lsf.min(), lsf.max(), 3)\n",
    "f2 = np.random.randint(gsf.min(), gsf.max(), 3)\n",
    "f3 = np.random.uniform(eic.min(), eic.max(), 3)\n",
    "f4 = np.random.randint(x_c.min(), x_c.max(), 3)\n",
    "f5 = np.random.randint(y_c.min(), y_c.max(), 3)\n",
    "print(f1)\n",
    "print(f2)\n",
    "print(f3)\n",
    "print(f4)\n",
    "print(f5)"
   ]
  },
  {
   "cell_type": "code",
   "execution_count": 53,
   "metadata": {},
   "outputs": [
    {
     "name": "stdout",
     "output_type": "stream",
     "text": [
      "Predicted selling price for Client 1's home: $2,500,000.00\n",
      "Predicted selling price for Client 2's home: $741,277.53\n",
      "Predicted selling price for Client 3's home: $1,062,286.19\n"
     ]
    }
   ],
   "source": [
    "# Produce a matrix for client data\n",
    "client_data = [[f1[0], f2[2], f3[1], f4[1], f5[2]], # Client 1\n",
    "               [f1[2], f2[1], f3[0], f4[0], f5[0]], # Client 2\n",
    "               [f1[1], f2[0], f3[2], f4[2], f5[1]]]  # Client 3\n",
    "# Show predictions\n",
    "for i, price in enumerate(reg.predict(client_data)):\n",
    "    print(\"Predicted selling price for Client {}'s home: ${:,.2f}\".format(i+1, price))"
   ]
  },
  {
   "cell_type": "code",
   "execution_count": 51,
   "metadata": {},
   "outputs": [
    {
     "name": "stdout",
     "output_type": "stream",
     "text": [
      "Trial 1: $1,609,290.39\n",
      "Trial 2: $1,492,348.91\n",
      "Trial 3: $1,640,436.47\n",
      "Trial 4: $2,500,000.00\n",
      "Trial 5: $1,799,028.38\n",
      "Trial 6: $1,703,139.19\n",
      "Trial 7: $1,175,272.73\n",
      "Trial 8: $1,795,997.29\n",
      "Trial 9: $730,000.00\n",
      "Trial 10: $1,414,436.60\n",
      "\n",
      "Range in prices: $1,770,000.00\n"
     ]
    }
   ],
   "source": [
    "PredictTrials(features, prices, fit_model, client_data)"
   ]
  },
  {
   "cell_type": "code",
   "execution_count": null,
   "metadata": {},
   "outputs": [],
   "source": []
  }
 ],
 "metadata": {
  "kernelspec": {
   "display_name": "Python 3",
   "language": "python",
   "name": "python3"
  },
  "language_info": {
   "codemirror_mode": {
    "name": "ipython",
    "version": 3
   },
   "file_extension": ".py",
   "mimetype": "text/x-python",
   "name": "python",
   "nbconvert_exporter": "python",
   "pygments_lexer": "ipython3",
   "version": "3.5.4"
  }
 },
 "nbformat": 4,
 "nbformat_minor": 2
}
